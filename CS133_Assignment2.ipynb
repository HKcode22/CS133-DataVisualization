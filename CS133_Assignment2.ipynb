{
  "nbformat": 4,
  "nbformat_minor": 0,
  "metadata": {
    "colab": {
      "provenance": [],
      "mount_file_id": "1YlH_UapQEWPvPTEa1KtWi8f3bK0zNFop",
      "authorship_tag": "ABX9TyPfnmJnH9B+a8k88vqictYc",
      "include_colab_link": true
    },
    "kernelspec": {
      "name": "python3",
      "display_name": "Python 3"
    },
    "language_info": {
      "name": "python"
    }
  },
  "cells": [
    {
      "cell_type": "markdown",
      "metadata": {
        "id": "view-in-github",
        "colab_type": "text"
      },
      "source": [
        "<a href=\"https://colab.research.google.com/github/HKcode22/CS133-DataVisualization/blob/main/CS133_Assignment2.ipynb\" target=\"_parent\"><img src=\"https://colab.research.google.com/assets/colab-badge.svg\" alt=\"Open In Colab\"/></a>"
      ]
    },
    {
      "cell_type": "code",
      "execution_count": 7,
      "metadata": {
        "id": "v6LxtgLIpqIu",
        "colab": {
          "base_uri": "https://localhost:8080/"
        },
        "outputId": "77018526-23cb-451f-ba78-ead89da9e3ca"
      },
      "outputs": [
        {
          "output_type": "stream",
          "name": "stdout",
          "text": [
            "Kingdom\n",
            "Fungi       4494\n",
            "Animals     2181\n",
            "Plants       870\n",
            "Protists     727\n",
            "Other         30\n",
            "Name: count, dtype: int64\n",
            "Species\n",
            "Saccharomyces cerevisiae            576\n",
            "Homo sapiens                        210\n",
            "Pyricularia oryzae                  199\n",
            "Venturia inaequalis                  85\n",
            "Oryza rufipogon                      62\n",
            "                                   ... \n",
            "Acanthamoeba pearcei                  1\n",
            "Basidioascus undulatus                1\n",
            "Eimeria nieschulzi                    1\n",
            "Acanthamoeba astronyxis               1\n",
            "Saccharomyces cerevisiae CLIB382      1\n",
            "Name: count, Length: 4936, dtype: int64\n",
            "Class\n",
            "Ascomycetes       3570\n",
            "Land Plants        781\n",
            "Basidiomycetes     726\n",
            "Mammals            658\n",
            "Insects            602\n",
            "Other Protists     357\n",
            "Fishes             282\n",
            "Apicomplexans      254\n",
            "Other Animals      210\n",
            "Other Fungi        198\n",
            "Birds              172\n",
            "Roundworms         162\n",
            "Kinetoplasts       116\n",
            "Green Algae         86\n",
            "Flatworms           47\n",
            "Reptiles            41\n",
            "Other               30\n",
            "Amphibians           7\n",
            "Other Plants         3\n",
            "Name: count, dtype: int64\n",
            "Number of genes\n",
            "-        5930\n",
            "6862        4\n",
            "5373        4\n",
            "6900        3\n",
            "14343       3\n",
            "         ... \n",
            "25232       1\n",
            "11153       1\n",
            "28378       1\n",
            "16646       1\n",
            "155         1\n",
            "Name: count, Length: 2239, dtype: int64\n"
          ]
        }
      ],
      "source": [
        "#Q2: How many organisms are there for each Kingdom (plants, animals, fungi, protists, and others), and how many unique species names?\n",
        "\n",
        "import pandas as pd\n",
        "\n",
        "#dataset for organisms, kingdom, plant, animal, fungi, protists, and others\n",
        "\n",
        "url = \"https://raw.githubusercontent.com/csbfx/advpy122-data/master/euk.tsv\"\n",
        "dataset = pd.read_csv(url, sep=\"\\t\") #sep meaning that the file is tab seperated\n",
        "\n",
        "#counting the number of unique organism for each kingdom\n",
        "#value_counts() is used to count occurences for each unique value in the kingdom column\n",
        "# print(dataset[\"kingdom\"].value_counts())\n",
        "kingdom_counts = dataset[\"Kingdom\"].value_counts()\n",
        "print(kingdom_counts)\n",
        "\n",
        "#counting the number of unique organism for each kingdom\n",
        "# print(dataset[\"species\"].value_counts())\n",
        "species_counts = dataset[\"Species\"].value_counts()\n",
        "print(species_counts)\n",
        "\n",
        "#counting the number of unique organism for each kingdom\n",
        "class_counts = dataset[\"Class\"].value_counts()\n",
        "print(class_counts)\n",
        "\n",
        "#counting the number of unique organism for each kingdom\n",
        "genes_counts = dataset[\"Number of genes\"].value_counts()\n",
        "print(genes_counts)\n",
        "\n",
        "\n",
        "\n",
        "\n",
        "\n"
      ]
    }
  ]
}