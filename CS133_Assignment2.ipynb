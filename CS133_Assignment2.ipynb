{
  "nbformat": 4,
  "nbformat_minor": 0,
  "metadata": {
    "colab": {
      "provenance": [],
      "mount_file_id": "1YlH_UapQEWPvPTEa1KtWi8f3bK0zNFop",
      "authorship_tag": "ABX9TyOb+6hXW7bXFlSpOMZcvt+h",
      "include_colab_link": true
    },
    "kernelspec": {
      "name": "python3",
      "display_name": "Python 3"
    },
    "language_info": {
      "name": "python"
    }
  },
  "cells": [
    {
      "cell_type": "markdown",
      "metadata": {
        "id": "view-in-github",
        "colab_type": "text"
      },
      "source": [
        "<a href=\"https://colab.research.google.com/github/HKcode22/CS133-DataVisualization/blob/main/CS133_Assignment2.ipynb\" target=\"_parent\"><img src=\"https://colab.research.google.com/assets/colab-badge.svg\" alt=\"Open In Colab\"/></a>"
      ]
    },
    {
      "cell_type": "code",
      "execution_count": null,
      "metadata": {
        "id": "v6LxtgLIpqIu"
      },
      "outputs": [],
      "source": [
        "#Q2: How many organisms are there for each Kingdom (plants, animals, fungi, protists, and others), and how many unique species names?\n",
        "\n",
        "import pandas as pd\n",
        "\n",
        "#dataset for organisms, kingdom, plant, animal, fungi, protists, and others\n",
        "\n",
        "url = \"https://raw.githubusercontent.com/csbfx/advpy122-data/master/euk.tsv\"\n",
        "dataset = pd.read_csv(url, sep=\"\\t\") #sep meaning that the file is tab seperated\n",
        "\n",
        "#counting the number of unique organism for each kingdom\n",
        "#value_counts() is used to count occurences for each unique value in the kingdom column\n",
        "# print(dataset[\"kingdom\"].value_counts())\n",
        "kingdom_counts = dataset[\"kingdom\"].value_counts()\n",
        "print(kingdom_counts)\n",
        "\n",
        "#counting the number of unique organism for each kingdom\n",
        "# print(dataset[\"species\"].value_counts())\n",
        "species_counts = dataset[\"species\"].value_counts()\n",
        "print(species_counts)\n",
        "\n",
        "#counting the number of unique organism for each kingdom\n",
        "# print(dataset[\"genus\"].value_counts())\n",
        "genus_counts = dataset[\"genus\"].value_counts()\n",
        "print(genus_counts)\n",
        "\n",
        "#counting the number of unique organism for each kingdom\n",
        "# print(dataset[\"family\"].value_counts())\n",
        "family_counts = dataset[\"family\"].value_counts()\n",
        "print(family_counts)\n",
        "\n",
        "#counting the number of unique organism for each kingdom\n",
        "# print(dataset[\"order\"].value_counts())\n",
        "order_counts = dataset[\"order\"].value_counts()\n",
        "print(order_counts)\n",
        "\n",
        "#counting the number of unique organism for each kingdom\n",
        "class_counts = dataset[\"class\"].value_counts()\n",
        "print(class_counts)\n",
        "\n",
        "#counting the number of unique organism for each kingdom\n",
        "phylum_counts = dataset[\"phylum\"].value_counts()\n",
        "print(phylum_counts)\n",
        "\n",
        "#counting the number of unique organism for each kingdom\n",
        "# print(dataset[\"genus\"].value_counts())\n",
        "genus_counts = dataset[\"genus\"].value_counts()\n",
        "print(genus_counts)\n",
        "\n",
        "\n",
        "\n",
        "\n",
        "\n"
      ]
    }
  ]
}