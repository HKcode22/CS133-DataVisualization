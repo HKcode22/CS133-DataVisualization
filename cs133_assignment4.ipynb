{
  "nbformat": 4,
  "nbformat_minor": 0,
  "metadata": {
    "colab": {
      "provenance": [],
      "mount_file_id": "1YlH_UapQEWPvPTEa1KtWi8f3bK0zNFop",
      "authorship_tag": "ABX9TyN2jxsh7v6ndevY02yOsYXD",
      "include_colab_link": true
    },
    "kernelspec": {
      "name": "python3",
      "display_name": "Python 3"
    },
    "language_info": {
      "name": "python"
    }
  },
  "cells": [
    {
      "cell_type": "markdown",
      "metadata": {
        "id": "view-in-github",
        "colab_type": "text"
      },
      "source": [
        "<a href=\"https://colab.research.google.com/github/HKcode22/DataVisualization-CS133/blob/main/cs133_assignment4.ipynb\" target=\"_parent\"><img src=\"https://colab.research.google.com/assets/colab-badge.svg\" alt=\"Open In Colab\"/></a>"
      ]
    },
    {
      "cell_type": "code",
      "source": [
        "def add(a):  # function to use a simple one\n",
        "    return a+1\n",
        "\n",
        "#list of nums\n",
        "nums = [1,2,3,4,5]\n",
        "\n",
        "#using map to apply add function to each element\n",
        "result = list(map(add,nums))\n",
        "\n",
        "# result = list(map(lambda x: add(x, 1),nums)) # need to use a lambda to pass 1 to the add function as b.\n",
        "\n",
        "\n",
        "print(result)"
      ],
      "metadata": {
        "colab": {
          "base_uri": "https://localhost:8080/"
        },
        "id": "qQTwtRvYHn3a",
        "outputId": "1da8d81f-c35a-4e69-c50b-577cf0106790"
      },
      "execution_count": null,
      "outputs": [
        {
          "output_type": "stream",
          "name": "stdout",
          "text": [
            "[2, 3, 4, 5, 6]\n"
          ]
        }
      ]
    }
  ]
}